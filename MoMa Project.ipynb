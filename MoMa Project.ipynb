{
 "cells": [
  {
   "cell_type": "code",
   "execution_count": 1,
   "id": "192dcc6f",
   "metadata": {},
   "outputs": [
    {
     "name": "stderr",
     "output_type": "stream",
     "text": [
      "2025-05-12 23:39:57.055 WARNING streamlit.runtime.scriptrunner_utils.script_run_context: Thread 'MainThread': missing ScriptRunContext! This warning can be ignored when running in bare mode.\n"
     ]
    }
   ],
   "source": [
    "import streamlit as st\n",
    "import pandas as pd\n",
    "import numpy as np\n",
    "import plotly.express as px\n",
    "from textblob import TextBlob\n",
    "from nrclex import NRCLex\n",
    "from nltk.sentiment.vader import SentimentIntensityAnalyzer\n",
    "from wordcloud import WordCloud, STOPWORDS\n",
    "from sklearn.feature_extraction.text import CountVectorizer\n",
    "\n",
    "# Configure page layout\n",
    "st.set_page_config(page_title=\"MoMA Reviews Dashboard\", layout=\"wide\")\n"
   ]
  },
  {
   "cell_type": "markdown",
   "id": "2f3dfc75",
   "metadata": {},
   "source": [
    "## Data Loading and Preprocessing"
   ]
  },
  {
   "cell_type": "code",
   "execution_count": 2,
   "id": "6ff17d9d",
   "metadata": {},
   "outputs": [
    {
     "name": "stderr",
     "output_type": "stream",
     "text": [
      "2025-05-12 23:41:09.860 WARNING streamlit.runtime.caching.cache_data_api: No runtime found, using MemoryCacheStorageManager\n",
      "2025-05-12 23:41:09.864 WARNING streamlit.runtime.caching.cache_data_api: No runtime found, using MemoryCacheStorageManager\n",
      "2025-05-12 23:41:09.867 WARNING streamlit.runtime.scriptrunner_utils.script_run_context: Thread 'MainThread': missing ScriptRunContext! This warning can be ignored when running in bare mode.\n",
      "2025-05-12 23:41:10.977 \n",
      "  \u001b[33m\u001b[1mWarning:\u001b[0m to view this Streamlit app on a browser, run it with the following\n",
      "  command:\n",
      "\n",
      "    streamlit run C:\\Users\\Victus\\AppData\\Local\\Packages\\PythonSoftwareFoundation.Python.3.12_qbz5n2kfra8p0\\LocalCache\\local-packages\\Python312\\site-packages\\ipykernel_launcher.py [ARGUMENTS]\n",
      "2025-05-12 23:41:10.979 Thread 'MainThread': missing ScriptRunContext! This warning can be ignored when running in bare mode.\n",
      "2025-05-12 23:41:10.980 Thread 'MainThread': missing ScriptRunContext! This warning can be ignored when running in bare mode.\n",
      "2025-05-12 23:41:11.508 Thread 'Thread-3': missing ScriptRunContext! This warning can be ignored when running in bare mode.\n",
      "2025-05-12 23:41:11.555 Thread 'Thread-3': missing ScriptRunContext! This warning can be ignored when running in bare mode.\n",
      "2025-05-12 23:41:41.196 Thread 'MainThread': missing ScriptRunContext! This warning can be ignored when running in bare mode.\n",
      "2025-05-12 23:41:41.197 Thread 'MainThread': missing ScriptRunContext! This warning can be ignored when running in bare mode.\n"
     ]
    }
   ],
   "source": [
    "@st.cache_data\n",
    "def load_and_preprocess_data():\n",
    "    df = pd.read_csv('reviews-1.csv')\n",
    "    # Parse date parts and combine into a datetime\n",
    "    df['Year'] = df['Year']\n",
    "    df['Month'] = df['Month']\n",
    "    df['YearMonth'] = pd.to_datetime(df[['Year','Month']].assign(DAY=1))\n",
    "    # Extract city and state/country\n",
    "    df['City'] = df['Hometown'].fillna('').apply(lambda x: x.split(',')[0] if x else None)\n",
    "    df['State/Country'] = df['Hometown'].fillna('').apply(\n",
    "        lambda x: x.split(',')[-1].strip() if x else None\n",
    "    )\n",
    "    # Classify Tourist Type\n",
    "    us_states = {\"Alabama\",\"Alaska\",\"Arizona\",\"Arkansas\",\"California\",\"Colorado\",\"Connecticut\",\"Delaware\",\"Florida\",\n",
    "                 \"Georgia\",\"Hawaii\",\"Idaho\",\"Illinois\",\"Indiana\",\"Iowa\",\"Kansas\",\"Kentucky\",\"Louisiana\",\"Maine\",\n",
    "                 \"Maryland\",\"Massachusetts\",\"Michigan\",\"Minnesota\",\"Mississippi\",\"Missouri\",\"Montana\",\"Nebraska\",\n",
    "                 \"Nevada\",\"New Hampshire\",\"New Jersey\",\"New Mexico\",\"New York\",\"North Carolina\",\"North Dakota\",\n",
    "                 \"Ohio\",\"Oklahoma\",\"Oregon\",\"Pennsylvania\",\"Rhode Island\",\"South Carolina\",\"South Dakota\",\"Tennessee\",\n",
    "                 \"Texas\",\"Utah\",\"Vermont\",\"Virginia\",\"Washington\",\"West Virginia\",\"Wisconsin\",\"Wyoming\",\"District of Columbia\"}\n",
    "    def classify_tourist(hometown):\n",
    "        if pd.isna(hometown) or not isinstance(hometown, str) or hometown.strip()==\"\":\n",
    "            return \"Not Specified\"\n",
    "        parts = [p.strip() for p in hometown.split(',')]\n",
    "        # Single token (likely state or country)\n",
    "        if len(parts) == 1:\n",
    "            if parts[0] in us_states:\n",
    "                return \"Domestic\"\n",
    "            else:\n",
    "                return \"Foreign\"\n",
    "        # Two-part (city, region)\n",
    "        city, region = parts[0], parts[-1]\n",
    "        if region in us_states:\n",
    "            # In New York state -> treat as Local (NYC area)\n",
    "            if region == \"New York\":\n",
    "                return \"Local\"\n",
    "            else:\n",
    "                return \"Domestic\"\n",
    "        return \"Foreign\"\n",
    "    df['Tourist Type'] = df['Hometown'].apply(classify_tourist)\n",
    "    # Sentiment analysis\n",
    "    sid = SentimentIntensityAnalyzer()\n",
    "    df['Text'] = df['Text'].fillna('')\n",
    "    df['TextBlob'] = df['Text'].apply(lambda x: TextBlob(x).sentiment.polarity)\n",
    "    df['VADER'] = df['Text'].apply(lambda x: sid.polarity_scores(x)['compound'])\n",
    "    df['Composite'] = (df['TextBlob'] + df['VADER']) / 2\n",
    "    # Classify sentiment label\n",
    "    def get_sentiment_label(c):\n",
    "        if c > 0.05:\n",
    "            return \"Positive\"\n",
    "        elif c < -0.05:\n",
    "            return \"Negative\"\n",
    "        else:\n",
    "            return \"Neutral\"\n",
    "    df['Sentiment'] = df['VADER'].apply(get_sentiment_label)\n",
    "    # Emotion classification (dominant emotion)\n",
    "    df['Emotion'] = df['Text'].apply(lambda x: NRCLex(x).top_emotions[0][0] if x else None)\n",
    "    return df\n",
    "\n",
    "data = load_and_preprocess_data()\n"
   ]
  },
  {
   "cell_type": "markdown",
   "id": "85f7e515",
   "metadata": {},
   "source": [
    "## Sidebar Filters"
   ]
  },
  {
   "cell_type": "code",
   "execution_count": 4,
   "id": "7243d2df",
   "metadata": {},
   "outputs": [
    {
     "name": "stderr",
     "output_type": "stream",
     "text": [
      "2025-05-12 23:43:45.046 Thread 'MainThread': missing ScriptRunContext! This warning can be ignored when running in bare mode.\n",
      "2025-05-12 23:43:45.048 Thread 'MainThread': missing ScriptRunContext! This warning can be ignored when running in bare mode.\n",
      "2025-05-12 23:43:45.051 Thread 'MainThread': missing ScriptRunContext! This warning can be ignored when running in bare mode.\n",
      "2025-05-12 23:43:45.053 Thread 'MainThread': missing ScriptRunContext! This warning can be ignored when running in bare mode.\n",
      "2025-05-12 23:43:45.054 Thread 'MainThread': missing ScriptRunContext! This warning can be ignored when running in bare mode.\n",
      "2025-05-12 23:43:45.055 Thread 'MainThread': missing ScriptRunContext! This warning can be ignored when running in bare mode.\n",
      "2025-05-12 23:43:45.056 Thread 'MainThread': missing ScriptRunContext! This warning can be ignored when running in bare mode.\n",
      "2025-05-12 23:43:45.056 Thread 'MainThread': missing ScriptRunContext! This warning can be ignored when running in bare mode.\n",
      "2025-05-12 23:43:45.057 Thread 'MainThread': missing ScriptRunContext! This warning can be ignored when running in bare mode.\n",
      "2025-05-12 23:43:45.058 Thread 'MainThread': missing ScriptRunContext! This warning can be ignored when running in bare mode.\n",
      "2025-05-12 23:43:45.059 Thread 'MainThread': missing ScriptRunContext! This warning can be ignored when running in bare mode.\n",
      "2025-05-12 23:43:45.060 Thread 'MainThread': missing ScriptRunContext! This warning can be ignored when running in bare mode.\n",
      "2025-05-12 23:43:45.062 Thread 'MainThread': missing ScriptRunContext! This warning can be ignored when running in bare mode.\n",
      "2025-05-12 23:43:45.063 Thread 'MainThread': missing ScriptRunContext! This warning can be ignored when running in bare mode.\n",
      "2025-05-12 23:43:45.065 Thread 'MainThread': missing ScriptRunContext! This warning can be ignored when running in bare mode.\n",
      "2025-05-12 23:43:45.066 Thread 'MainThread': missing ScriptRunContext! This warning can be ignored when running in bare mode.\n",
      "2025-05-12 23:43:45.068 Thread 'MainThread': missing ScriptRunContext! This warning can be ignored when running in bare mode.\n",
      "2025-05-12 23:43:45.069 Thread 'MainThread': missing ScriptRunContext! This warning can be ignored when running in bare mode.\n",
      "2025-05-12 23:43:45.070 Thread 'MainThread': missing ScriptRunContext! This warning can be ignored when running in bare mode.\n",
      "2025-05-12 23:43:45.071 Thread 'MainThread': missing ScriptRunContext! This warning can be ignored when running in bare mode.\n",
      "2025-05-12 23:43:45.071 Thread 'MainThread': missing ScriptRunContext! This warning can be ignored when running in bare mode.\n",
      "2025-05-12 23:43:45.072 Session state does not function when running a script without `streamlit run`\n",
      "2025-05-12 23:43:45.074 Thread 'MainThread': missing ScriptRunContext! This warning can be ignored when running in bare mode.\n",
      "2025-05-12 23:43:45.075 Thread 'MainThread': missing ScriptRunContext! This warning can be ignored when running in bare mode.\n"
     ]
    }
   ],
   "source": [
    "st.sidebar.header(\"Filter Reviews\")\n",
    "\n",
    "years = sorted(data['Year'].unique())\n",
    "selected_years = st.sidebar.multiselect(\"Year\", options=years, default=years)\n",
    "\n",
    "tourist_options = [\"Foreign\",\"Domestic\",\"Local\",\"Not Specified\"]\n",
    "selected_tourists = st.sidebar.multiselect(\"Tourist Type\", options=tourist_options, default=tourist_options)\n",
    "\n",
    "sentiment_options = [\"Positive\",\"Neutral\",\"Negative\"]\n",
    "selected_sentiments = st.sidebar.multiselect(\"Sentiment\", options=sentiment_options, default=sentiment_options)\n",
    "\n",
    "keyword = st.sidebar.text_input(\"Keyword Search\")\n",
    "\n",
    "# Apply filters\n",
    "filtered = data[\n",
    "    data['Year'].isin(selected_years) &\n",
    "    data['Tourist Type'].isin(selected_tourists) &\n",
    "    data['Sentiment'].isin(selected_sentiments)\n",
    "].copy()\n",
    "if keyword:\n",
    "    filtered = filtered[filtered['Text'].str.contains(keyword, case=False, na=False)]\n"
   ]
  },
  {
   "cell_type": "markdown",
   "id": "51cd1f5b",
   "metadata": {},
   "source": [
    "## Distribution of Review Ratings"
   ]
  },
  {
   "cell_type": "code",
   "execution_count": 5,
   "id": "3212fdf7",
   "metadata": {},
   "outputs": [
    {
     "name": "stderr",
     "output_type": "stream",
     "text": [
      "2025-05-12 23:44:25.303 Thread 'MainThread': missing ScriptRunContext! This warning can be ignored when running in bare mode.\n",
      "2025-05-12 23:44:25.304 Thread 'MainThread': missing ScriptRunContext! This warning can be ignored when running in bare mode.\n",
      "2025-05-12 23:44:25.306 Thread 'MainThread': missing ScriptRunContext! This warning can be ignored when running in bare mode.\n",
      "2025-05-12 23:44:25.307 Thread 'MainThread': missing ScriptRunContext! This warning can be ignored when running in bare mode.\n",
      "2025-05-12 23:44:25.683 Thread 'MainThread': missing ScriptRunContext! This warning can be ignored when running in bare mode.\n",
      "2025-05-12 23:44:25.685 Thread 'MainThread': missing ScriptRunContext! This warning can be ignored when running in bare mode.\n",
      "2025-05-12 23:44:25.686 Thread 'MainThread': missing ScriptRunContext! This warning can be ignored when running in bare mode.\n",
      "2025-05-12 23:44:25.687 Thread 'MainThread': missing ScriptRunContext! This warning can be ignored when running in bare mode.\n"
     ]
    },
    {
     "data": {
      "text/plain": [
       "DeltaGenerator()"
      ]
     },
     "execution_count": 5,
     "metadata": {},
     "output_type": "execute_result"
    }
   ],
   "source": [
    "st.subheader(\"Review Rating Distribution\")\n",
    "st.write(\"Number of reviews by rating (1 = lowest, 5 = highest).\")\n",
    "rating_counts = filtered['Rating'].value_counts().sort_index()\n",
    "fig_rating = px.bar(\n",
    "    x=rating_counts.index,\n",
    "    y=rating_counts.values,\n",
    "    labels={'x': 'Rating', 'y': 'Number of Reviews'},\n",
    "    text=rating_counts.values\n",
    ")\n",
    "fig_rating.update_traces(marker_color='steelblue', textposition='outside')\n",
    "fig_rating.update_layout(yaxis=dict(tick0=0, dtick=5))\n",
    "st.plotly_chart(fig_rating, use_container_width=True)\n"
   ]
  },
  {
   "cell_type": "markdown",
   "id": "e767e47a",
   "metadata": {},
   "source": [
    "## Reviews by Tourist Type"
   ]
  },
  {
   "cell_type": "code",
   "execution_count": 6,
   "id": "49cb97e7",
   "metadata": {},
   "outputs": [
    {
     "name": "stderr",
     "output_type": "stream",
     "text": [
      "2025-05-12 23:44:46.735 Thread 'MainThread': missing ScriptRunContext! This warning can be ignored when running in bare mode.\n",
      "2025-05-12 23:44:46.736 Thread 'MainThread': missing ScriptRunContext! This warning can be ignored when running in bare mode.\n",
      "2025-05-12 23:44:46.737 Thread 'MainThread': missing ScriptRunContext! This warning can be ignored when running in bare mode.\n",
      "2025-05-12 23:44:46.739 Thread 'MainThread': missing ScriptRunContext! This warning can be ignored when running in bare mode.\n",
      "2025-05-12 23:44:46.815 Thread 'MainThread': missing ScriptRunContext! This warning can be ignored when running in bare mode.\n",
      "2025-05-12 23:44:46.817 Thread 'MainThread': missing ScriptRunContext! This warning can be ignored when running in bare mode.\n",
      "2025-05-12 23:44:46.818 Thread 'MainThread': missing ScriptRunContext! This warning can be ignored when running in bare mode.\n",
      "2025-05-12 23:44:46.820 Thread 'MainThread': missing ScriptRunContext! This warning can be ignored when running in bare mode.\n"
     ]
    },
    {
     "data": {
      "text/plain": [
       "DeltaGenerator()"
      ]
     },
     "execution_count": 6,
     "metadata": {},
     "output_type": "execute_result"
    }
   ],
   "source": [
    "st.subheader(\"Reviews by Tourist Type\")\n",
    "st.write(\"Count of reviews by category of visitor origin.\")\n",
    "tourist_counts = filtered['Tourist Type'].value_counts()\n",
    "fig_tourist = px.bar(\n",
    "    x=tourist_counts.index,\n",
    "    y=tourist_counts.values,\n",
    "    labels={'x': 'Tourist Type', 'y': 'Number of Reviews'},\n",
    "    color=tourist_counts.index,\n",
    ")\n",
    "fig_tourist.update_layout(showlegend=False)\n",
    "st.plotly_chart(fig_tourist, use_container_width=True)\n"
   ]
  },
  {
   "cell_type": "markdown",
   "id": "6f68e355",
   "metadata": {},
   "source": [
    "## Reviews Over Time (Yearly and Monthly)"
   ]
  },
  {
   "cell_type": "code",
   "execution_count": 7,
   "id": "b2169daf",
   "metadata": {},
   "outputs": [
    {
     "name": "stderr",
     "output_type": "stream",
     "text": [
      "2025-05-12 23:45:07.587 Thread 'MainThread': missing ScriptRunContext! This warning can be ignored when running in bare mode.\n",
      "2025-05-12 23:45:07.589 Thread 'MainThread': missing ScriptRunContext! This warning can be ignored when running in bare mode.\n",
      "2025-05-12 23:45:07.590 Thread 'MainThread': missing ScriptRunContext! This warning can be ignored when running in bare mode.\n",
      "2025-05-12 23:45:07.592 Thread 'MainThread': missing ScriptRunContext! This warning can be ignored when running in bare mode.\n",
      "2025-05-12 23:45:07.593 Thread 'MainThread': missing ScriptRunContext! This warning can be ignored when running in bare mode.\n",
      "2025-05-12 23:45:07.594 Thread 'MainThread': missing ScriptRunContext! This warning can be ignored when running in bare mode.\n",
      "2025-05-12 23:45:07.663 Thread 'MainThread': missing ScriptRunContext! This warning can be ignored when running in bare mode.\n",
      "2025-05-12 23:45:07.664 Thread 'MainThread': missing ScriptRunContext! This warning can be ignored when running in bare mode.\n",
      "2025-05-12 23:45:07.665 Thread 'MainThread': missing ScriptRunContext! This warning can be ignored when running in bare mode.\n",
      "2025-05-12 23:45:07.667 Thread 'MainThread': missing ScriptRunContext! This warning can be ignored when running in bare mode.\n",
      "2025-05-12 23:45:07.669 Thread 'MainThread': missing ScriptRunContext! This warning can be ignored when running in bare mode.\n",
      "2025-05-12 23:45:07.670 Thread 'MainThread': missing ScriptRunContext! This warning can be ignored when running in bare mode.\n",
      "2025-05-12 23:45:07.719 Thread 'MainThread': missing ScriptRunContext! This warning can be ignored when running in bare mode.\n",
      "2025-05-12 23:45:07.721 Thread 'MainThread': missing ScriptRunContext! This warning can be ignored when running in bare mode.\n",
      "2025-05-12 23:45:07.722 Thread 'MainThread': missing ScriptRunContext! This warning can be ignored when running in bare mode.\n",
      "2025-05-12 23:45:07.724 Thread 'MainThread': missing ScriptRunContext! This warning can be ignored when running in bare mode.\n"
     ]
    }
   ],
   "source": [
    "with st.expander(\"Reviews Over Time (Yearly vs Monthly)\", expanded=True):\n",
    "    tab_year, tab_month = st.tabs([\"Yearly Trend\", \"Monthly Trend\"])\n",
    "    # Yearly\n",
    "    with tab_year:\n",
    "        st.write(\"Annual number of reviews over time.\")\n",
    "        year_counts = filtered.groupby('Year').size().reset_index(name='Count')\n",
    "        fig_year = px.line(\n",
    "            year_counts, x='Year', y='Count', markers=True,\n",
    "            labels={'Count': 'Number of Reviews'}\n",
    "        )\n",
    "        fig_year.update_traces(line=dict(color='teal'))\n",
    "        st.plotly_chart(fig_year, use_container_width=True)\n",
    "    # Monthly\n",
    "    with tab_month:\n",
    "        st.write(\"Number of reviews per month (time series).\")\n",
    "        month_counts = filtered.groupby('YearMonth').size().reset_index(name='Count')\n",
    "        fig_month = px.line(\n",
    "            month_counts, x='YearMonth', y='Count', markers=True,\n",
    "            labels={'YearMonth': 'Month', 'Count': 'Number of Reviews'}\n",
    "        )\n",
    "        fig_month.update_traces(line=dict(color='teal'))\n",
    "        st.plotly_chart(fig_month, use_container_width=True)\n"
   ]
  },
  {
   "cell_type": "markdown",
   "id": "dd5565ab",
   "metadata": {},
   "source": [
    "## Top Cities and States/Countries of Reviewers"
   ]
  },
  {
   "cell_type": "code",
   "execution_count": null,
   "id": "775c5dcb",
   "metadata": {},
   "outputs": [],
   "source": [
    "with st.expander(\"Top Reviewer Locations\", expanded=False):\n",
    "    st.write(\"Most common cities and states/countries of reviewers.\")\n",
    "    city_counts = filtered['City'].value_counts().head(10)\n",
    "    state_counts = filtered['State/Country'].value_counts().head(10)\n",
    "\n",
    "    fig_cities = px.bar(\n",
    "        x=city_counts.values, y=city_counts.index, orientation='h',\n",
    "        labels={'x': 'Number of Reviews', 'y': 'City'},\n",
    "        title=\"Top Cities\"\n",
    "    )\n",
    "    fig_states = px.bar(\n",
    "        x=state_counts.values, y=state_counts.index, orientation='h',\n",
    "        labels={'x': 'Number of Reviews', 'y': 'State/Country'},\n",
    "        title=\"Top States/Countries\"\n",
    "    )\n",
    "    fig_cities.update_traces(marker_color='mediumpurple')\n",
    "    fig_states.update_traces(marker_color='mediumpurple')\n",
    "\n",
    "    col1, col2 = st.columns(2)\n",
    "    col1.plotly_chart(fig_cities, use_container_width=True)\n",
    "    col2.plotly_chart(fig_states, use_container_width=True)\n"
   ]
  },
  {
   "cell_type": "markdown",
   "id": "573ac5e1",
   "metadata": {},
   "source": [
    "## Monthly Average Rating Over Time"
   ]
  },
  {
   "cell_type": "code",
   "execution_count": 8,
   "id": "a153475f",
   "metadata": {},
   "outputs": [
    {
     "name": "stderr",
     "output_type": "stream",
     "text": [
      "2025-05-12 23:45:45.923 Thread 'MainThread': missing ScriptRunContext! This warning can be ignored when running in bare mode.\n",
      "2025-05-12 23:45:45.925 Thread 'MainThread': missing ScriptRunContext! This warning can be ignored when running in bare mode.\n",
      "2025-05-12 23:45:45.926 Thread 'MainThread': missing ScriptRunContext! This warning can be ignored when running in bare mode.\n",
      "2025-05-12 23:45:45.928 Thread 'MainThread': missing ScriptRunContext! This warning can be ignored when running in bare mode.\n",
      "2025-05-12 23:45:45.975 Thread 'MainThread': missing ScriptRunContext! This warning can be ignored when running in bare mode.\n",
      "2025-05-12 23:45:45.977 Thread 'MainThread': missing ScriptRunContext! This warning can be ignored when running in bare mode.\n",
      "2025-05-12 23:45:45.979 Thread 'MainThread': missing ScriptRunContext! This warning can be ignored when running in bare mode.\n",
      "2025-05-12 23:45:45.980 Thread 'MainThread': missing ScriptRunContext! This warning can be ignored when running in bare mode.\n"
     ]
    },
    {
     "data": {
      "text/plain": [
       "DeltaGenerator()"
      ]
     },
     "execution_count": 8,
     "metadata": {},
     "output_type": "execute_result"
    }
   ],
   "source": [
    "st.subheader(\"Monthly Average Rating Over Time\")\n",
    "st.write(\"Trend of average rating per month for the selected data.\")\n",
    "avg_rating = filtered.groupby(['YearMonth'])['Rating'].mean().reset_index()\n",
    "fig_avg = px.line(\n",
    "    avg_rating, x='YearMonth', y='Rating', markers=True,\n",
    "    labels={'YearMonth': 'Month', 'Rating': 'Average Rating'}\n",
    ")\n",
    "fig_avg.update_traces(line=dict(color='orange'))\n",
    "st.plotly_chart(fig_avg, use_container_width=True)\n"
   ]
  },
  {
   "cell_type": "markdown",
   "id": "69eab062",
   "metadata": {},
   "source": [
    "## Word Clouds (Unigrams and Bigrams)"
   ]
  },
  {
   "cell_type": "code",
   "execution_count": 9,
   "id": "06f1d1a0",
   "metadata": {},
   "outputs": [
    {
     "name": "stderr",
     "output_type": "stream",
     "text": [
      "2025-05-12 23:46:05.221 Thread 'MainThread': missing ScriptRunContext! This warning can be ignored when running in bare mode.\n",
      "2025-05-12 23:46:05.223 Thread 'MainThread': missing ScriptRunContext! This warning can be ignored when running in bare mode.\n",
      "2025-05-12 23:46:05.224 Thread 'MainThread': missing ScriptRunContext! This warning can be ignored when running in bare mode.\n",
      "2025-05-12 23:46:09.468 Thread 'MainThread': missing ScriptRunContext! This warning can be ignored when running in bare mode.\n",
      "2025-05-12 23:46:09.495 Thread 'MainThread': missing ScriptRunContext! This warning can be ignored when running in bare mode.\n",
      "2025-05-12 23:46:09.496 Thread 'MainThread': missing ScriptRunContext! This warning can be ignored when running in bare mode.\n",
      "2025-05-12 23:46:12.334 Thread 'MainThread': missing ScriptRunContext! This warning can be ignored when running in bare mode.\n",
      "2025-05-12 23:46:12.338 Thread 'MainThread': missing ScriptRunContext! This warning can be ignored when running in bare mode.\n",
      "2025-05-12 23:46:12.339 Thread 'MainThread': missing ScriptRunContext! This warning can be ignored when running in bare mode.\n"
     ]
    }
   ],
   "source": [
    "with st.expander(\"Word Clouds (Unigrams & Bigrams)\", expanded=False):\n",
    "    st.write(\"Word clouds of most frequent words (unigrams) and word pairs (bigrams) in reviews.\")\n",
    "    text_all = \" \".join(filtered['Text'].tolist()).lower()\n",
    "    # Unigram word cloud\n",
    "    wc1 = WordCloud(width=400, height=300, background_color='white',\n",
    "                    stopwords=set(STOPWORDS)).generate(text_all)\n",
    "    st.image(wc1.to_array(), caption=\"Unigram Word Cloud\")\n",
    "    # Bigram word cloud (using frequencies)\n",
    "    vectorizer = CountVectorizer(ngram_range=(2,2), stop_words='english')\n",
    "    X = vectorizer.fit_transform(filtered['Text'])\n",
    "    bigram_freq = dict(zip(vectorizer.get_feature_names_out(), X.sum(axis=0).A1))\n",
    "    wc2 = WordCloud(width=400, height=300, background_color='white',\n",
    "                    stopwords=set(STOPWORDS)).generate_from_frequencies(bigram_freq)\n",
    "    st.image(wc2.to_array(), caption=\"Bigram Word Cloud\")\n"
   ]
  },
  {
   "cell_type": "markdown",
   "id": "537131d0",
   "metadata": {},
   "source": [
    "## Sentiment Distribution"
   ]
  },
  {
   "cell_type": "code",
   "execution_count": 10,
   "id": "56eeeb7d",
   "metadata": {},
   "outputs": [
    {
     "name": "stderr",
     "output_type": "stream",
     "text": [
      "2025-05-12 23:46:29.053 Thread 'MainThread': missing ScriptRunContext! This warning can be ignored when running in bare mode.\n",
      "2025-05-12 23:46:29.055 Thread 'MainThread': missing ScriptRunContext! This warning can be ignored when running in bare mode.\n",
      "2025-05-12 23:46:29.057 Thread 'MainThread': missing ScriptRunContext! This warning can be ignored when running in bare mode.\n",
      "2025-05-12 23:46:29.058 Thread 'MainThread': missing ScriptRunContext! This warning can be ignored when running in bare mode.\n",
      "2025-05-12 23:46:29.060 Thread 'MainThread': missing ScriptRunContext! This warning can be ignored when running in bare mode.\n",
      "2025-05-12 23:46:29.061 Thread 'MainThread': missing ScriptRunContext! This warning can be ignored when running in bare mode.\n",
      "2025-05-12 23:46:29.131 Thread 'MainThread': missing ScriptRunContext! This warning can be ignored when running in bare mode.\n",
      "2025-05-12 23:46:29.132 Thread 'MainThread': missing ScriptRunContext! This warning can be ignored when running in bare mode.\n",
      "2025-05-12 23:46:29.133 Thread 'MainThread': missing ScriptRunContext! This warning can be ignored when running in bare mode.\n",
      "2025-05-12 23:46:29.135 Thread 'MainThread': missing ScriptRunContext! This warning can be ignored when running in bare mode.\n",
      "2025-05-12 23:46:29.195 Thread 'MainThread': missing ScriptRunContext! This warning can be ignored when running in bare mode.\n",
      "2025-05-12 23:46:29.197 Thread 'MainThread': missing ScriptRunContext! This warning can be ignored when running in bare mode.\n",
      "2025-05-12 23:46:29.199 Thread 'MainThread': missing ScriptRunContext! This warning can be ignored when running in bare mode.\n",
      "2025-05-12 23:46:29.200 Thread 'MainThread': missing ScriptRunContext! This warning can be ignored when running in bare mode.\n"
     ]
    }
   ],
   "source": [
    "with st.expander(\"Sentiment Distribution\", expanded=False):\n",
    "    st.write(\"Distribution of review sentiment (via VADER classification) for selected reviews.\")\n",
    "    overall_tab, byyear_tab = st.tabs([\"Overall Sentiment\", \"Sentiment by Year\"])\n",
    "    # Overall sentiment pie/bar\n",
    "    with overall_tab:\n",
    "        sent_counts = filtered['Sentiment'].value_counts()\n",
    "        fig_sent = px.bar(\n",
    "            x=sent_counts.index, y=sent_counts.values,\n",
    "            labels={'x': 'Sentiment', 'y': 'Number of Reviews'},\n",
    "            color=sent_counts.index\n",
    "        )\n",
    "        fig_sent.update_layout(showlegend=False)\n",
    "        st.plotly_chart(fig_sent, use_container_width=True)\n",
    "    # Sentiment by year (grouped bar)\n",
    "    with byyear_tab:\n",
    "        year_sent = filtered.groupby(['Year','Sentiment']).size().reset_index(name='Count')\n",
    "        fig_yearsent = px.bar(\n",
    "            year_sent, x='Year', y='Count', color='Sentiment', barmode='group',\n",
    "            labels={'Count': 'Number of Reviews'}\n",
    "        )\n",
    "        st.plotly_chart(fig_yearsent, use_container_width=True)\n"
   ]
  },
  {
   "cell_type": "markdown",
   "id": "998ca2fd",
   "metadata": {},
   "source": [
    "## Sentiment Scores Comparison (TextBlob, VADER, Composite)"
   ]
  },
  {
   "cell_type": "code",
   "execution_count": 11,
   "id": "cc0022ee",
   "metadata": {},
   "outputs": [
    {
     "name": "stderr",
     "output_type": "stream",
     "text": [
      "2025-05-12 23:46:50.601 Thread 'MainThread': missing ScriptRunContext! This warning can be ignored when running in bare mode.\n",
      "2025-05-12 23:46:50.602 Thread 'MainThread': missing ScriptRunContext! This warning can be ignored when running in bare mode.\n",
      "2025-05-12 23:46:50.604 Thread 'MainThread': missing ScriptRunContext! This warning can be ignored when running in bare mode.\n",
      "2025-05-12 23:46:50.605 Thread 'MainThread': missing ScriptRunContext! This warning can be ignored when running in bare mode.\n",
      "2025-05-12 23:46:50.671 Thread 'MainThread': missing ScriptRunContext! This warning can be ignored when running in bare mode.\n",
      "2025-05-12 23:46:50.673 Thread 'MainThread': missing ScriptRunContext! This warning can be ignored when running in bare mode.\n",
      "2025-05-12 23:46:50.674 Thread 'MainThread': missing ScriptRunContext! This warning can be ignored when running in bare mode.\n",
      "2025-05-12 23:46:50.675 Thread 'MainThread': missing ScriptRunContext! This warning can be ignored when running in bare mode.\n"
     ]
    },
    {
     "data": {
      "text/plain": [
       "DeltaGenerator()"
      ]
     },
     "execution_count": 11,
     "metadata": {},
     "output_type": "execute_result"
    }
   ],
   "source": [
    "st.subheader(\"Sentiment Score Comparison by Year\")\n",
    "st.write(\"Average sentiment scores by year (TextBlob vs VADER vs composite).\")\n",
    "score_avg = filtered.groupby('Year').agg({\n",
    "    'TextBlob': 'mean',\n",
    "    'VADER': 'mean',\n",
    "    'Composite': 'mean'\n",
    "}).reset_index()\n",
    "score_melted = score_avg.melt(id_vars=['Year'], \n",
    "                              value_vars=['TextBlob','VADER','Composite'],\n",
    "                              var_name='Method', value_name='Score')\n",
    "fig_scores = px.line(\n",
    "    score_melted, x='Year', y='Score', color='Method', markers=True,\n",
    "    labels={'Score': 'Mean Sentiment Score'}\n",
    ")\n",
    "st.plotly_chart(fig_scores, use_container_width=True)\n"
   ]
  },
  {
   "cell_type": "markdown",
   "id": "48e1717d",
   "metadata": {},
   "source": [
    "## Emotion Classification"
   ]
  },
  {
   "cell_type": "code",
   "execution_count": 12,
   "id": "dfff4eb3",
   "metadata": {},
   "outputs": [
    {
     "name": "stderr",
     "output_type": "stream",
     "text": [
      "2025-05-12 23:47:06.668 Thread 'MainThread': missing ScriptRunContext! This warning can be ignored when running in bare mode.\n",
      "2025-05-12 23:47:06.669 Thread 'MainThread': missing ScriptRunContext! This warning can be ignored when running in bare mode.\n",
      "2025-05-12 23:47:06.671 Thread 'MainThread': missing ScriptRunContext! This warning can be ignored when running in bare mode.\n",
      "2025-05-12 23:47:06.672 Thread 'MainThread': missing ScriptRunContext! This warning can be ignored when running in bare mode.\n",
      "2025-05-12 23:47:06.763 Thread 'MainThread': missing ScriptRunContext! This warning can be ignored when running in bare mode.\n",
      "2025-05-12 23:47:06.764 Thread 'MainThread': missing ScriptRunContext! This warning can be ignored when running in bare mode.\n",
      "2025-05-12 23:47:06.766 Thread 'MainThread': missing ScriptRunContext! This warning can be ignored when running in bare mode.\n",
      "2025-05-12 23:47:06.767 Thread 'MainThread': missing ScriptRunContext! This warning can be ignored when running in bare mode.\n"
     ]
    },
    {
     "data": {
      "text/plain": [
       "DeltaGenerator()"
      ]
     },
     "execution_count": 12,
     "metadata": {},
     "output_type": "execute_result"
    }
   ],
   "source": [
    "st.subheader(\"Emotion Classification (Dominant Emotion)\")\n",
    "st.write(\"Predicted dominant emotion in each review (via NRC Lexicon).\")\n",
    "emotion_counts = filtered['Emotion'].value_counts()\n",
    "fig_emotion = px.bar(\n",
    "    x=emotion_counts.index, y=emotion_counts.values,\n",
    "    labels={'x': 'Emotion', 'y': 'Number of Reviews'},\n",
    "    color=emotion_counts.index\n",
    ")\n",
    "fig_emotion.update_layout(showlegend=False)\n",
    "st.plotly_chart(fig_emotion, use_container_width=True)\n"
   ]
  },
  {
   "cell_type": "markdown",
   "id": "7912c51e",
   "metadata": {},
   "source": [
    "## Common Words in Negative Reviews"
   ]
  },
  {
   "cell_type": "code",
   "execution_count": 13,
   "id": "2d948bac",
   "metadata": {},
   "outputs": [
    {
     "name": "stderr",
     "output_type": "stream",
     "text": [
      "2025-05-12 23:47:26.466 Thread 'MainThread': missing ScriptRunContext! This warning can be ignored when running in bare mode.\n",
      "2025-05-12 23:47:26.469 Thread 'MainThread': missing ScriptRunContext! This warning can be ignored when running in bare mode.\n",
      "2025-05-12 23:47:26.470 Thread 'MainThread': missing ScriptRunContext! This warning can be ignored when running in bare mode.\n",
      "2025-05-12 23:47:26.590 Thread 'MainThread': missing ScriptRunContext! This warning can be ignored when running in bare mode.\n",
      "2025-05-12 23:47:26.592 Thread 'MainThread': missing ScriptRunContext! This warning can be ignored when running in bare mode.\n",
      "2025-05-12 23:47:26.593 Thread 'MainThread': missing ScriptRunContext! This warning can be ignored when running in bare mode.\n",
      "2025-05-12 23:47:26.594 Thread 'MainThread': missing ScriptRunContext! This warning can be ignored when running in bare mode.\n"
     ]
    }
   ],
   "source": [
    "with st.expander(\"Common Words in Negative Reviews\", expanded=False):\n",
    "    st.write(\"Top words in reviews classified as Negative (sentiment).\")\n",
    "    neg_reviews = filtered[filtered['Sentiment'] == 'Negative']\n",
    "    neg_text = \" \".join(neg_reviews['Text'].tolist())\n",
    "    vec = CountVectorizer(stop_words='english')\n",
    "    X_neg = vec.fit_transform(neg_reviews['Text'])\n",
    "    word_freq = dict(zip(vec.get_feature_names_out(), X_neg.sum(axis=0).A1))\n",
    "    top_words = sorted(word_freq.items(), key=lambda x: x[1], reverse=True)[:10]\n",
    "    df_top = pd.DataFrame(top_words, columns=['Word','Count'])\n",
    "    fig_negwords = px.bar(\n",
    "        df_top, x='Count', y='Word', orientation='h',\n",
    "        labels={'Count': 'Frequency', 'Word': 'Word'}\n",
    "    )\n",
    "    st.plotly_chart(fig_negwords, use_container_width=True)\n"
   ]
  }
 ],
 "metadata": {
  "kernelspec": {
   "display_name": "Python 3",
   "language": "python",
   "name": "python3"
  },
  "language_info": {
   "codemirror_mode": {
    "name": "ipython",
    "version": 3
   },
   "file_extension": ".py",
   "mimetype": "text/x-python",
   "name": "python",
   "nbconvert_exporter": "python",
   "pygments_lexer": "ipython3",
   "version": "3.12.6"
  }
 },
 "nbformat": 4,
 "nbformat_minor": 5
}
